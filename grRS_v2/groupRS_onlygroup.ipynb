{
 "cells": [
  {
   "cell_type": "code",
   "execution_count": 7,
   "metadata": {},
   "outputs": [
    {
     "name": "stdout",
     "output_type": "stream",
     "text": [
      "Device: cuda\n",
      "UserItem: (5275, 1513) with 38011 interactions, sparsity: 0.99524\n",
      "GroupItem: (995, 1513) with 2600 interactions, sparsity: 0.99827\n",
      "number of tr_groups: 995\n",
      "number of tr_groups_items: 1513\n",
      "number of tr_users: 5275\n",
      "number of tr_users_items: 1513\n"
     ]
    }
   ],
   "source": [
    "import random\n",
    "import numpy as np\n",
    "import torch\n",
    "import scipy.sparse as sp\n",
    "import os\n",
    "import argparse\n",
    "from sklearn.preprocessing import MinMaxScaler\n",
    "from utils import csr2torch, recall_at_k, ndcg_at_k, hit_at_k, normalize_sparse_adjacency_matrix, normalize_sparse_adjacency_matrix_, filter\n",
    "from dataset import Dataset\n",
    "\n",
    "# from dataset_weeplaces import DatasetWeeplaces\n",
    "# from dataset_scaling import Dataset\n",
    "\n",
    "device = torch.device(\"cuda\" if torch.cuda.is_available() else \"cpu\")\n",
    "current_directory = os.getcwd() \n",
    "\n",
    "parser = argparse.ArgumentParser()\n",
    "parser.add_argument(\n",
    "    \"--dataset\",\n",
    "    type=str,    default=\"Mafengwo\", # \"CAMRa2011\" or \"Mafengwo\"\n",
    "    help=\"Either CAMRa2011, agree_data or weeplaces.\",\n",
    ")\n",
    "\n",
    "parser.add_argument(\n",
    "    \"--verbose\",\n",
    "    type=int,\n",
    "    default=1,\n",
    "    help=\"Whether to print the results or not. 1 prints the results, 0 does not.\",\n",
    ")\n",
    "parser.add_argument(\"--user_alpha\", type=float, default=0.5, help=\"weight of P_2^T @ R_2\")\n",
    "parser.add_argument(\"--group_alpha\", type=float, default=0.5, help=\"weight of P_2^T @ R_2\")\n",
    "parser.add_argument(\"--alpha\", type=float, default=0.5, help=\"For normalization of R\")\n",
    "parser.add_argument(\"--power\", type=float, default=1, help=\"For normalization of P\")\n",
    "parser.add_argument(\"--filter_pair\", type=str, default=\"filter_1D_1D\", help=\"pair filter of user and group\")\n",
    "\n",
    "\n",
    "\n",
    "args = parser.parse_args()  \n",
    "\n",
    "if args.verbose:\n",
    "    print(f\"Device: {device}\")\n",
    "\n",
    "# load dataset\n",
    "dataset = args.dataset\n",
    "path = current_directory + f'/data/{dataset}/'\n",
    "data = Dataset(path) \n",
    "R_tr_g, R_ts_g, R_tr_u, R_ts_u, C, g_neg, u_neg = data.getDataset()\n",
    "\n",
    "# shape\n",
    "train_n_groups = R_tr_g.shape[0]\n",
    "train_group_n_items = R_tr_g.shape[1]\n",
    "train_n_users = R_tr_u.shape[0]\n",
    "train_user_n_items = R_tr_u.shape[1]\n",
    "\n",
    "if args.verbose:\n",
    "    print(f\"number of tr_groups: {train_n_groups}\")\n",
    "    print(f\"number of tr_groups_items: {train_group_n_items}\")\n",
    "    print(f\"number of tr_users: {train_n_users}\")\n",
    "    print(f\"number of tr_users_items: {train_user_n_items}\")\n"
   ]
  },
  {
   "cell_type": "code",
   "execution_count": 8,
   "metadata": {},
   "outputs": [],
   "source": [
    "# R_tilde 구하기\n",
    "train_group_mceg_norm = normalize_sparse_adjacency_matrix(R_tr_g.to_dense(), args.alpha) \n",
    "R_tr_u_star = R_tr_u.to_dense() * C.unsqueeze(1)  # group-user consistency calculation\n",
    "train_user_mceg_norm = normalize_sparse_adjacency_matrix(R_tr_u_star, args.alpha) \n",
    "\n",
    "# R = R_tr.to_dense()\n",
    "new_R_tr_g = R_tr_g.to_dense() \n",
    "new_R_tr_u = R_tr_u.to_dense() \n",
    "\n",
    "# P_tilde = R^T @ R\n",
    "train_group_P = train_group_mceg_norm.T @ train_group_mceg_norm \n",
    "train_user_P = train_user_mceg_norm.T @ train_user_mceg_norm\n",
    "\n",
    "#  P_bar = P_tilde◦s\n",
    "train_group_P.data **= args.power\n",
    "train_user_P.data **= args.power\n",
    "new_P = train_group_P + train_user_P  # only linear filter for test\n",
    "\n",
    "# to device\n",
    "train_group_P = train_group_P.to(device=device).float()\n",
    "new_R_tr_g = new_R_tr_g.to(device=device).float()\n",
    "train_user_P = train_user_P.to(device=device).float()\n",
    "new_R_tr_u = new_R_tr_u.to(device=device).float()\n",
    "\n",
    "new_P = new_P.to(device=device).float()\n",
    "\n",
    "# Our model\n",
    "train_group_results = new_R_tr_g @ (train_group_P) # train_group_P: [7057, 7057], new_R_tr_g: [290, 7057] \n",
    "train_user_results = new_R_tr_u @ (train_user_P) # 유저만 \n",
    "new_t_group_results = new_R_tr_g @ (new_P) # 여기 수정함 "
   ]
  },
  {
   "cell_type": "code",
   "execution_count": 9,
   "metadata": {},
   "outputs": [
    {
     "name": "stdout",
     "output_type": "stream",
     "text": [
      "NEW MODEL Hit@K: 0.8945\n",
      "NEW MODEL NDCG@K: 0.8176\n"
     ]
    }
   ],
   "source": [
    "# Now get the results\n",
    "inf_m = -99999 \n",
    "# group_gt_mat = R_ts_g.to_dense()\n",
    "# user_gt_mat = R_ts_u.to_dense()\n",
    "# group_results = train_group_results.cpu() + (inf_m) * R_tr_g.to_dense() \n",
    "# user_results = train_user_results.cpu() + (inf_m) * R_tr_u.to_dense()\n",
    "# group_gt_mat = group_gt_mat.cpu().detach().numpy()\n",
    "# user_gt_mat = user_gt_mat.cpu().detach().numpy()\n",
    "# group_results = group_results.cpu().detach().numpy()\n",
    "# user_results = user_results.cpu().detach().numpy()\n",
    "\n",
    "new_group_gt_mat = R_ts_g.to_dense()\n",
    "new_group_results = new_t_group_results.cpu() + (inf_m) * R_tr_g.to_dense() \n",
    "new_group_gt_mat = new_group_gt_mat.cpu().detach().numpy()\n",
    "new_group_results = new_group_results.cpu().detach().numpy()\n",
    "\n",
    "# print(f\"alpha: {a}, p: {p} \")\n",
    "# print(f\"Recall@K: {recall_at_k(group_gt_mat, group_results, g_neg, k=10):.4f}\")\n",
    "# print(f\"NDCG@K: {ndcg_at_k(group_gt_mat, group_results, g_neg, k=10):.4f}\")\n",
    "# print(f\"Recall@K: {recall_at_k(user_gt_mat, user_results, u_neg, k=10):.4f}\")\n",
    "# print(f\"NDCG@K: {ndcg_at_k(user_gt_mat, user_results, u_neg, k=10):.4f}\")\n",
    "\n",
    "#print(f\"NEW MODEL Recall@K: {recall_at_k(new_group_gt_mat, new_group_results, g_neg, k=10):.4f}\")\n",
    "print(f\"NEW MODEL Hit@K: {hit_at_k(new_group_gt_mat, new_group_results, g_neg, k=10):.4f}\")\n",
    "print(f\"NEW MODEL NDCG@K: {ndcg_at_k(new_group_gt_mat, new_group_results, g_neg, k=10):.4f}\")"
   ]
  },
  {
   "cell_type": "code",
   "execution_count": null,
   "metadata": {},
   "outputs": [],
   "source": []
  }
 ],
 "metadata": {
  "kernelspec": {
   "display_name": "GL",
   "language": "python",
   "name": "python3"
  },
  "language_info": {
   "codemirror_mode": {
    "name": "ipython",
    "version": 3
   },
   "file_extension": ".py",
   "mimetype": "text/x-python",
   "name": "python",
   "nbconvert_exporter": "python",
   "pygments_lexer": "ipython3",
   "version": "3.9.18"
  }
 },
 "nbformat": 4,
 "nbformat_minor": 2
}
